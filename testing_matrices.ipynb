{
 "cells": [
  {
   "cell_type": "code",
   "execution_count": 13,
   "metadata": {
    "collapsed": true
   },
   "outputs": [],
   "source": [
    "%matplotlib inline\n",
    "import pandas\n",
    "from pandas import DataFrame\n",
    "import numpy as np\n",
    "import os"
   ]
  },
  {
   "cell_type": "code",
   "execution_count": 14,
   "outputs": [],
   "source": [
    "f = \"/Users/oli/OneDrive/Uni-stuff/2022/Project/Supplementary/Datasets/dataset/\"\n",
    "f += \"CS-Aarhus_Multiplex_Social/Dataset/CS-Aarhus_multiplex.edges\"\n",
    "\n",
    "with open(f) as file:\n",
    "    text = file.read()\n",
    "\n",
    "text = text"
   ],
   "metadata": {
    "collapsed": false,
    "pycharm": {
     "name": "#%%\n"
    }
   }
  },
  {
   "cell_type": "code",
   "execution_count": 15,
   "outputs": [],
   "source": [
    "edges = []\n",
    "current_edge = []\n",
    "current_num = ''\n",
    "\n",
    "for char in text:\n",
    "    if char not in ['\\n', ' ']:\n",
    "        current_num += char\n",
    "    elif char == ' ':\n",
    "        current_edge.append(int(current_num) - 1)\n",
    "        current_num = ''\n",
    "    elif char == '\\n':\n",
    "        current_num += char\n",
    "        current_edge.append(int(current_num) - 1)\n",
    "        edges.append(current_edge)\n",
    "        current_edge = []\n",
    "        current_num= ''"
   ],
   "metadata": {
    "collapsed": false,
    "pycharm": {
     "name": "#%%\n"
    }
   }
  },
  {
   "cell_type": "code",
   "execution_count": 20,
   "outputs": [],
   "source": [
    "adj_matrix = np.zeros((61,61))\n",
    "\n",
    "for edge in edges:\n",
    "    if edge[0] == 0:\n",
    "        x = edge[1]\n",
    "        y = edge[2]\n",
    "\n",
    "        # This is to get the matrix to be diagonally symmetric\n",
    "        adj_matrix[x][y] = 1\n",
    "        adj_matrix[y][x] = 1\n",
    "\n",
    "adj_matrix\n",
    "\n",
    "adj_list = adj_matrix.tolist()\n",
    "adj_list\n"
   ],
   "metadata": {
    "collapsed": false,
    "pycharm": {
     "name": "#%%\n"
    }
   }
  },
  {
   "cell_type": "code",
   "execution_count": 23,
   "outputs": [],
   "source": [
    "savefile = \"Saved_edges/Aarhus.txt\"\n",
    "\n",
    "with open(savefile, \"w\") as f:\n",
    "    f.write(str(adj_list))"
   ],
   "metadata": {
    "collapsed": false,
    "pycharm": {
     "name": "#%%\n"
    }
   }
  }
 ],
 "metadata": {
  "kernelspec": {
   "name": "pycharm-5f71f68c",
   "language": "python",
   "display_name": "PyCharm (Project)"
  },
  "language_info": {
   "codemirror_mode": {
    "name": "ipython",
    "version": 2
   },
   "file_extension": ".py",
   "mimetype": "text/x-python",
   "name": "python",
   "nbconvert_exporter": "python",
   "pygments_lexer": "ipython2",
   "version": "2.7.6"
  }
 },
 "nbformat": 4,
 "nbformat_minor": 0
}